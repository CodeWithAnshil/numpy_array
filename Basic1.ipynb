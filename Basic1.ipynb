{
 "cells": [
  {
   "cell_type": "code",
   "execution_count": 2,
   "id": "634e9edf-b1b3-4677-b1c0-87da97bdb176",
   "metadata": {},
   "outputs": [],
   "source": [
    "import numpy as np"
   ]
  },
  {
   "cell_type": "code",
   "execution_count": 17,
   "id": "41af775c-27a0-451b-b612-1612c922d415",
   "metadata": {},
   "outputs": [
    {
     "name": "stdout",
     "output_type": "stream",
     "text": [
      "4.25 μs ± 237 ns per loop (mean ± std. dev. of 7 runs, 100,000 loops each)\n"
     ]
    }
   ],
   "source": [
    "%timeit np.arange(1,100)**4"
   ]
  },
  {
   "cell_type": "code",
   "execution_count": 18,
   "id": "f0ea47e0-8b0c-450f-81f0-5056c3968e1c",
   "metadata": {},
   "outputs": [
    {
     "name": "stdout",
     "output_type": "stream",
     "text": [
      "14.5 μs ± 585 ns per loop (mean ± std. dev. of 7 runs, 100,000 loops each)\n"
     ]
    }
   ],
   "source": [
    "%timeit [j**4 for j in range(1,100)]"
   ]
  },
  {
   "cell_type": "raw",
   "id": "ec418bce-3cf8-4c62-a025-d5ebec6318ee",
   "metadata": {},
   "source": [
    "Array"
   ]
  },
  {
   "cell_type": "code",
   "execution_count": 22,
   "id": "061a907b-69a9-453f-b838-ae6a55e0a64c",
   "metadata": {},
   "outputs": [
    {
     "name": "stdout",
     "output_type": "stream",
     "text": [
      "[1 2 3 4 5]\n",
      "<class 'numpy.ndarray'>\n"
     ]
    }
   ],
   "source": [
    "x=np.array([1,2,3,4,5])\n",
    "print(x)\n",
    "\n",
    "print(type(x))"
   ]
  },
  {
   "cell_type": "code",
   "execution_count": 23,
   "id": "44f2e411-7d4f-4cba-96f6-c16d35b941a9",
   "metadata": {},
   "outputs": [
    {
     "name": "stdin",
     "output_type": "stream",
     "text": [
      "Enter :  12\n",
      "Enter :  13\n",
      "Enter :  14\n"
     ]
    },
    {
     "name": "stdout",
     "output_type": "stream",
     "text": [
      "['12', '13', '14']\n"
     ]
    }
   ],
   "source": [
    "l=[]\n",
    "for i in range(1,4):\n",
    "    int_1=input(\"Enter : \")\n",
    "    l.append(int_1)\n",
    "\n",
    "print(l)\n",
    "    \n"
   ]
  },
  {
   "cell_type": "code",
   "execution_count": 26,
   "id": "fb1d838b-ce7f-4756-a454-df40e7999eee",
   "metadata": {},
   "outputs": [
    {
     "name": "stdin",
     "output_type": "stream",
     "text": [
      "Enter :  hwll\n",
      "Enter :  jbf\n",
      "Enter :  sdf\n",
      "Enter :  sf\n",
      "Enter :  EXIt\n"
     ]
    },
    {
     "name": "stdout",
     "output_type": "stream",
     "text": [
      "['hwll', 'jbf', 'sdf', 'sf']\n"
     ]
    }
   ],
   "source": [
    "list=[]\n",
    "while True:\n",
    "    int_1=input(\"Enter : \")\n",
    "    if int_1.lower() ==\"exit\":\n",
    "        break\n",
    "    else:\n",
    "        list.append(int_1)\n",
    "\n",
    "print(list)\n",
    "    "
   ]
  },
  {
   "cell_type": "code",
   "execution_count": 4,
   "id": "db919542-ddd5-442e-9f5b-fa1d47ddb6be",
   "metadata": {},
   "outputs": [
    {
     "name": "stdout",
     "output_type": "stream",
     "text": [
      "1\n",
      "[ 1 24  4 56  3]\n"
     ]
    }
   ],
   "source": [
    "ar1=np.array([1,24,4,56,3])\n",
    "print(ar1.ndim)\n",
    "print(ar1)\n"
   ]
  },
  {
   "cell_type": "code",
   "execution_count": 5,
   "id": "388aa7f1-70c6-420a-985c-494ff0db5364",
   "metadata": {},
   "outputs": [
    {
     "name": "stdout",
     "output_type": "stream",
     "text": [
      "[[ 1  2  4 56]]\n",
      "2\n"
     ]
    }
   ],
   "source": [
    "ar2=np.array([[1,2,4,56]])\n",
    "print(ar2)\n",
    "print(ar2.ndim)\n"
   ]
  },
  {
   "cell_type": "code",
   "execution_count": 6,
   "id": "98cdfa4a-b519-4f2b-b1ce-74fd9b8db389",
   "metadata": {},
   "outputs": [
    {
     "name": "stdout",
     "output_type": "stream",
     "text": [
      "3\n",
      "[[[2 3 5 6 3]]]\n"
     ]
    }
   ],
   "source": [
    "ar3=np.array([[[2,3,5,6,3]]])\n",
    "print(ar3.ndim)\n",
    "print(ar3)"
   ]
  },
  {
   "cell_type": "code",
   "execution_count": 9,
   "id": "4ef15044-5df4-4f7c-b21f-3ddc7fee9844",
   "metadata": {},
   "outputs": [
    {
     "name": "stdout",
     "output_type": "stream",
     "text": [
      "[[[[[[[[[[1 2 3 4 5]]]]]]]]]]\n",
      "10\n"
     ]
    }
   ],
   "source": [
    "arn=np.array([1,2,3,4,5],ndmin=10)\n",
    "print(arn)\n",
    "print(arn.ndim)"
   ]
  },
  {
   "cell_type": "code",
   "execution_count": null,
   "id": "a8715910-471f-47b8-8837-4cd6ed6c70c2",
   "metadata": {},
   "outputs": [],
   "source": []
  }
 ],
 "metadata": {
  "kernelspec": {
   "display_name": "Python 3 (ipykernel)",
   "language": "python",
   "name": "python3"
  },
  "language_info": {
   "codemirror_mode": {
    "name": "ipython",
    "version": 3
   },
   "file_extension": ".py",
   "mimetype": "text/x-python",
   "name": "python",
   "nbconvert_exporter": "python",
   "pygments_lexer": "ipython3",
   "version": "3.12.7"
  }
 },
 "nbformat": 4,
 "nbformat_minor": 5
}
