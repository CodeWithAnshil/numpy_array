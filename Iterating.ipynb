{
 "cells": [
  {
   "cell_type": "markdown",
   "id": "98507da1-467c-456a-a755-98f16a1597af",
   "metadata": {},
   "source": [
    "# Iterating"
   ]
  },
  {
   "cell_type": "code",
   "execution_count": 1,
   "id": "4027e58e-797f-43f7-8fb3-d3b64919438a",
   "metadata": {},
   "outputs": [],
   "source": [
    "import numpy as np"
   ]
  },
  {
   "cell_type": "code",
   "execution_count": 2,
   "id": "1864a939-9261-40a4-a40b-6cb4b4b9d7d9",
   "metadata": {},
   "outputs": [
    {
     "name": "stdout",
     "output_type": "stream",
     "text": [
      "[1 2 3 4 5 6 7 8]\n",
      "1\n",
      "2\n",
      "3\n",
      "4\n",
      "5\n",
      "6\n",
      "7\n",
      "8\n"
     ]
    }
   ],
   "source": [
    "x=np.array([1,2,3,4,5,6,7,8])\n",
    "print(x)\n",
    "for i in x:\n",
    "    print(i)"
   ]
  },
  {
   "cell_type": "code",
   "execution_count": 8,
   "id": "7a896ff5-d8ad-496b-93ce-ea64d96fe181",
   "metadata": {},
   "outputs": [
    {
     "name": "stdout",
     "output_type": "stream",
     "text": [
      "[[1 2 3 4 5]\n",
      " [2 1 5 4 6]]\n",
      "\n",
      "1\n",
      "2\n",
      "3\n",
      "4\n",
      "5\n",
      "2\n",
      "1\n",
      "5\n",
      "4\n",
      "6\n"
     ]
    }
   ],
   "source": [
    "x1=np.array([[1,2,3,4,5],[2,1,5,4,6]])\n",
    "print(x1)\n",
    "print()\n",
    "for i in x1:\n",
    "    for j in i:\n",
    "        print(j)\n",
    "        \n"
   ]
  },
  {
   "cell_type": "code",
   "execution_count": 15,
   "id": "bf2ebb50-5509-4f69-9e75-2e6d5d9a0702",
   "metadata": {},
   "outputs": [
    {
     "name": "stdout",
     "output_type": "stream",
     "text": [
      "[[[1 2 3 4 5]\n",
      "  [4 5 6 8 9]]\n",
      "\n",
      " [[2 3 4 6 6]\n",
      "  [3 5 8 6 4]]]\n",
      "\n",
      "1\n",
      "2\n",
      "3\n",
      "4\n",
      "5\n",
      "4\n",
      "5\n",
      "6\n",
      "8\n",
      "9\n",
      "2\n",
      "3\n",
      "4\n",
      "6\n",
      "6\n",
      "3\n",
      "5\n",
      "8\n",
      "6\n",
      "4\n"
     ]
    }
   ],
   "source": [
    "x2=np.array([[[1,2,3,4,5],[4,5,6,8,9]],[[2,3,4,6,6],[3,5,8,6,4]]])\n",
    "print(x2)\n",
    "print()\n",
    "for i in x2:\n",
    "    for j in i:\n",
    "        for k in j:\n",
    "            print(k)\n",
    "          \n",
    "   "
   ]
  },
  {
   "cell_type": "markdown",
   "id": "e50b14af-a19a-46a2-84ce-12c90fafb411",
   "metadata": {},
   "source": [
    "# np.nditer()  "
   ]
  },
  {
   "cell_type": "code",
   "execution_count": 20,
   "id": "642e9d6e-be3d-41af-ac21-a3a8e1e5a69f",
   "metadata": {},
   "outputs": [
    {
     "name": "stdout",
     "output_type": "stream",
     "text": [
      "[[[1 2 3 4 5]\n",
      "  [4 5 6 8 9]]\n",
      "\n",
      " [[2 3 4 6 6]\n",
      "  [3 5 8 6 4]]]\n",
      "\n",
      "1\n",
      "2\n",
      "3\n",
      "4\n",
      "5\n",
      "4\n",
      "5\n",
      "6\n",
      "8\n",
      "9\n",
      "2\n",
      "3\n",
      "4\n",
      "6\n",
      "6\n",
      "3\n",
      "5\n",
      "8\n",
      "6\n",
      "4\n"
     ]
    }
   ],
   "source": [
    "x3=np.array([[[1,2,3,4,5],[4,5,6,8,9]],[[2,3,4,6,6],[3,5,8,6,4]]])\n",
    "print(x3)\n",
    "print()\n",
    "for i in np.nditer(x3):\n",
    "    print(i)"
   ]
  },
  {
   "cell_type": "code",
   "execution_count": 22,
   "id": "516fccbf-0d2e-4565-93a7-84db670c8fd8",
   "metadata": {},
   "outputs": [
    {
     "name": "stdout",
     "output_type": "stream",
     "text": [
      "[[1 2 3 4 5]\n",
      " [2 1 5 4 6]]\n",
      "\n",
      "1\n",
      "2\n",
      "3\n",
      "4\n",
      "5\n",
      "2\n",
      "1\n",
      "5\n",
      "4\n",
      "6\n"
     ]
    }
   ],
   "source": [
    "x4=np.array([[1,2,3,4,5],[2,1,5,4,6]])\n",
    "print(x4)\n",
    "print()\n",
    "for i in np.nditer(x4):\n",
    "    print(i)\n",
    "\n",
    "        \n"
   ]
  },
  {
   "cell_type": "markdown",
   "id": "61d7292f-a800-4b1a-95f8-8afcc2d0e44d",
   "metadata": {},
   "source": [
    "# ndenumerate() method -> It is used when we need iterate value with index"
   ]
  },
  {
   "cell_type": "code",
   "execution_count": 23,
   "id": "c0fa4969-1fab-40ae-9cfb-779ad632ce17",
   "metadata": {},
   "outputs": [
    {
     "name": "stdout",
     "output_type": "stream",
     "text": [
      "[[[1 2 3 4 5]\n",
      "  [4 5 6 8 9]]\n",
      "\n",
      " [[2 3 4 6 6]\n",
      "  [3 5 8 6 4]]]\n",
      "\n",
      "((0, 0, 0), 1)\n",
      "((0, 0, 1), 2)\n",
      "((0, 0, 2), 3)\n",
      "((0, 0, 3), 4)\n",
      "((0, 0, 4), 5)\n",
      "((0, 1, 0), 4)\n",
      "((0, 1, 1), 5)\n",
      "((0, 1, 2), 6)\n",
      "((0, 1, 3), 8)\n",
      "((0, 1, 4), 9)\n",
      "((1, 0, 0), 2)\n",
      "((1, 0, 1), 3)\n",
      "((1, 0, 2), 4)\n",
      "((1, 0, 3), 6)\n",
      "((1, 0, 4), 6)\n",
      "((1, 1, 0), 3)\n",
      "((1, 1, 1), 5)\n",
      "((1, 1, 2), 8)\n",
      "((1, 1, 3), 6)\n",
      "((1, 1, 4), 4)\n"
     ]
    }
   ],
   "source": [
    "x5=np.array([[[1,2,3,4,5],[4,5,6,8,9]],[[2,3,4,6,6],[3,5,8,6,4]]])\n",
    "print(x5)\n",
    "print()\n",
    "for i in np.ndenumerate(x5):\n",
    "    print(i)"
   ]
  },
  {
   "cell_type": "code",
   "execution_count": null,
   "id": "0129da43-236b-4913-8c18-1778effc4e8b",
   "metadata": {},
   "outputs": [],
   "source": []
  }
 ],
 "metadata": {
  "kernelspec": {
   "display_name": "Python 3 (ipykernel)",
   "language": "python",
   "name": "python3"
  },
  "language_info": {
   "codemirror_mode": {
    "name": "ipython",
    "version": 3
   },
   "file_extension": ".py",
   "mimetype": "text/x-python",
   "name": "python",
   "nbconvert_exporter": "python",
   "pygments_lexer": "ipython3",
   "version": "3.12.7"
  }
 },
 "nbformat": 4,
 "nbformat_minor": 5
}
