{
 "cells": [
  {
   "cell_type": "markdown",
   "id": "6e515c4e-fc99-492e-b82c-139a6ea8f552",
   "metadata": {},
   "source": [
    "Shape"
   ]
  },
  {
   "cell_type": "code",
   "execution_count": 1,
   "id": "532e5043-f06f-461c-9ffd-c7c5b7494c9f",
   "metadata": {},
   "outputs": [],
   "source": [
    "import numpy as np"
   ]
  },
  {
   "cell_type": "code",
   "execution_count": 26,
   "id": "d2808323-bb68-48a2-b4a0-e637494d65f6",
   "metadata": {},
   "outputs": [
    {
     "name": "stdout",
     "output_type": "stream",
     "text": [
      "[[[[ 1  2  3  4  5  6  7  8  9 10 11 12 13]]]]\n",
      "4\n",
      "(1, 1, 1, 13)\n"
     ]
    }
   ],
   "source": [
    "x= np.array([1,2,3,4,5,6,7,8,9,10,11,12,13],ndmin=4)\n",
    "print(x)\n",
    "print(x.ndim)\n",
    "print(x.shape)"
   ]
  },
  {
   "cell_type": "markdown",
   "id": "617a40ba-a024-4787-9df3-b6645966d16d",
   "metadata": {},
   "source": [
    "3D-Array"
   ]
  },
  {
   "cell_type": "code",
   "execution_count": 21,
   "id": "2eab76a0-f82f-438b-9896-fca37376d801",
   "metadata": {},
   "outputs": [
    {
     "name": "stdout",
     "output_type": "stream",
     "text": [
      "[[[ 1  2]\n",
      "  [ 3  4]\n",
      "  [ 5  6]]\n",
      "\n",
      " [[ 7  8]\n",
      "  [ 9 10]\n",
      "  [11 12]]\n",
      "\n",
      " [[13 14]\n",
      "  [15 16]\n",
      "  [17 18]]]\n",
      "(3, 3, 2)\n"
     ]
    }
   ],
   "source": [
    "x1= np.array([1,2,3,4,5,6,7,8,9,10,11,12,13,14,15,16,17,18])\n",
    "new_1=x1.reshape(3,3,2)\n",
    "print(new_1)\n",
    "print(new_1.shape)"
   ]
  },
  {
   "cell_type": "markdown",
   "id": "bf8ce8cc-1399-4cd8-8350-22cca25f44a9",
   "metadata": {},
   "source": [
    "2D-Array"
   ]
  },
  {
   "cell_type": "code",
   "execution_count": 22,
   "id": "defe712c-be3f-4597-9c9a-a6f10bae0670",
   "metadata": {},
   "outputs": [
    {
     "name": "stdout",
     "output_type": "stream",
     "text": [
      "[[ 1  2  3  4  5  6]\n",
      " [ 7  8  9 10 11 12]\n",
      " [13 14 15 16 17 18]]\n"
     ]
    }
   ],
   "source": [
    "x2= np.array([1,2,3,4,5,6,7,8,9,10,11,12,13,14,15,16,17,18])\n",
    "new_2= x2.reshape(3,6)\n",
    "print(new_2)"
   ]
  },
  {
   "cell_type": "code",
   "execution_count": 30,
   "id": "6b5d6ca2-5f65-4505-84d4-c4eaaa5b605f",
   "metadata": {},
   "outputs": [
    {
     "ename": "SyntaxError",
     "evalue": "invalid syntax. Perhaps you forgot a comma? (2807363195.py, line 1)",
     "output_type": "error",
     "traceback": [
      "\u001b[1;36m  Cell \u001b[1;32mIn[30], line 1\u001b[1;36m\u001b[0m\n\u001b[1;33m    x3=np.array([[ 1  2  3  4  5  6],[ 7  8  9 10 11 12],[13 14 15 16 17 18]])\u001b[0m\n\u001b[1;37m                   ^\u001b[0m\n\u001b[1;31mSyntaxError\u001b[0m\u001b[1;31m:\u001b[0m invalid syntax. Perhaps you forgot a comma?\n"
     ]
    }
   ],
   "source": [
    "x3=np.array([[ 1  2  3  4  5  6],[ 7  8  9 10 11 12],[13 14 15 16 17 18]])\n",
    "print(x3.shape)\n"
   ]
  },
  {
   "cell_type": "code",
   "execution_count": null,
   "id": "a9376182-1a49-4e58-97bd-7e6b2eff8222",
   "metadata": {},
   "outputs": [],
   "source": []
  }
 ],
 "metadata": {
  "kernelspec": {
   "display_name": "Python 3 (ipykernel)",
   "language": "python",
   "name": "python3"
  },
  "language_info": {
   "codemirror_mode": {
    "name": "ipython",
    "version": 3
   },
   "file_extension": ".py",
   "mimetype": "text/x-python",
   "name": "python",
   "nbconvert_exporter": "python",
   "pygments_lexer": "ipython3",
   "version": "3.12.7"
  }
 },
 "nbformat": 4,
 "nbformat_minor": 5
}
