{
 "cells": [
  {
   "cell_type": "markdown",
   "id": "fc046b74-4403-4439-af7b-8588143e5cf4",
   "metadata": {},
   "source": [
    "# Join & Split"
   ]
  },
  {
   "cell_type": "markdown",
   "id": "99957383-909a-491c-bdbf-78d6fcd0a964",
   "metadata": {},
   "source": [
    "### np.concatenate() method-> is use for join array"
   ]
  },
  {
   "cell_type": "code",
   "execution_count": 1,
   "id": "d70850b0-db9b-4182-a109-b73efb822e0c",
   "metadata": {},
   "outputs": [],
   "source": [
    "import numpy as np"
   ]
  },
  {
   "cell_type": "code",
   "execution_count": 5,
   "id": "4094aca8-4b85-4728-9100-06e9eb7ba584",
   "metadata": {},
   "outputs": [
    {
     "name": "stdout",
     "output_type": "stream",
     "text": [
      "[1 2 3 4 5 6 8 6 7 9 9 5]\n"
     ]
    }
   ],
   "source": [
    "var1=np.array([1,2,3,4,5,6])\n",
    "var2=np.array([8,6,7,9,9,5])\n",
    "new_1=np.concatenate((var1,var2))\n",
    "print(new_1)"
   ]
  },
  {
   "cell_type": "markdown",
   "id": "e542537e-f446-4c8c-aca1-19917077f0d1",
   "metadata": {},
   "source": [
    "### Join on the basis of axis=0,1.."
   ]
  },
  {
   "cell_type": "code",
   "execution_count": 7,
   "id": "dcf04b95-3183-4c7b-beba-6f315c74a7f8",
   "metadata": {},
   "outputs": [
    {
     "name": "stdout",
     "output_type": "stream",
     "text": [
      "[1 2 3 4 5 6 8 6 7 9 9 5]\n"
     ]
    }
   ],
   "source": [
    "new_2=np.concatenate((var1,var2),axis=0)\n",
    "print(new_2)"
   ]
  },
  {
   "cell_type": "code",
   "execution_count": 12,
   "id": "6dc921eb-a406-48cc-886f-2efe3eafd133",
   "metadata": {},
   "outputs": [
    {
     "name": "stdout",
     "output_type": "stream",
     "text": [
      "[[1 2 3]\n",
      " [4 5 6]\n",
      " [8 6 7]\n",
      " [9 9 5]]\n",
      "\n",
      "[[1 2 3 8 6 7]\n",
      " [4 5 6 9 9 5]]\n"
     ]
    }
   ],
   "source": [
    "var3=np.array([[1,2,3],[4,5,6]])\n",
    "var4=np.array([[8,6,7],[9,9,5]])\n",
    "new_3=np.concatenate((var3,var4),axis=0)\n",
    "new_4=np.concatenate((var3,var4),axis=1)\n",
    "print(new_3)\n",
    "print()\n",
    "print(new_4)"
   ]
  },
  {
   "cell_type": "code",
   "execution_count": 13,
   "id": "6257e98b-1e94-4502-a232-a3e1d8ef6973",
   "metadata": {},
   "outputs": [
    {
     "name": "stdout",
     "output_type": "stream",
     "text": [
      "[[[ 1  2  3]\n",
      "  [ 8  9  0]]\n",
      "\n",
      " [[ 4  5  6]\n",
      "  [ 0  9 43]]\n",
      "\n",
      " [[ 1 33  3]\n",
      "  [ 8  3 34]]\n",
      "\n",
      " [[45  5  6]\n",
      "  [ 0  9 43]]]\n",
      "\n",
      "[[[ 1  2  3]\n",
      "  [ 8  9  0]\n",
      "  [ 1 33  3]\n",
      "  [ 8  3 34]]\n",
      "\n",
      " [[ 4  5  6]\n",
      "  [ 0  9 43]\n",
      "  [45  5  6]\n",
      "  [ 0  9 43]]]\n",
      "\n",
      "[[[ 1  2  3  1 33  3]\n",
      "  [ 8  9  0  8  3 34]]\n",
      "\n",
      " [[ 4  5  6 45  5  6]\n",
      "  [ 0  9 43  0  9 43]]]\n"
     ]
    }
   ],
   "source": [
    "var5=np.array([[[1,2,3],[8,9,0]],[[4,5,6],[0,9,43]]])\n",
    "var6=np.array([[[1,33,3],[8,3,34]],[[45,5,6],[0,9,43]]])\n",
    "new_5=np.concatenate((var5,var6),axis=0)\n",
    "new_6=np.concatenate((var5,var6),axis=1)\n",
    "new_7=np.concatenate((var5,var6),axis=2)\n",
    "print(new_5)\n",
    "print()\n",
    "print(new_6)\n",
    "print()\n",
    "print(new_7)"
   ]
  },
  {
   "cell_type": "markdown",
   "id": "2afc0560-bf9e-405b-952e-08db023a35d6",
   "metadata": {},
   "source": [
    "# np.stack() mathod-> It is also use to join array via verticaly,horizontaly and hight \n",
    "## np.hstack() -> Horizontly\n",
    "## np.vstack() -> Verticaly\n",
    "## np.dstack() -> hight"
   ]
  },
  {
   "cell_type": "code",
   "execution_count": 14,
   "id": "9c373359-dd16-40f2-8bc6-d02c0520c2bf",
   "metadata": {},
   "outputs": [
    {
     "name": "stdout",
     "output_type": "stream",
     "text": [
      "[[[ 1  2  3]\n",
      "  [ 8  9  0]\n",
      "  [ 1 33  3]\n",
      "  [ 8  3 34]]\n",
      "\n",
      " [[ 4  5  6]\n",
      "  [ 0  9 43]\n",
      "  [45  5  6]\n",
      "  [ 0  9 43]]]\n",
      "\n",
      "[[[ 1  2  3]\n",
      "  [ 8  9  0]]\n",
      "\n",
      " [[ 4  5  6]\n",
      "  [ 0  9 43]]\n",
      "\n",
      " [[ 1 33  3]\n",
      "  [ 8  3 34]]\n",
      "\n",
      " [[45  5  6]\n",
      "  [ 0  9 43]]]\n",
      "\n",
      "[[[ 1  2  3  1 33  3]\n",
      "  [ 8  9  0  8  3 34]]\n",
      "\n",
      " [[ 4  5  6 45  5  6]\n",
      "  [ 0  9 43  0  9 43]]]\n"
     ]
    }
   ],
   "source": [
    "new_8=np.hstack((var5,var6))\n",
    "new_9=np.vstack((var5,var6))\n",
    "new_0=np.dstack((var5,var6))\n",
    "\n",
    "print(new_8)\n",
    "print()\n",
    "print(new_9)\n",
    "print()\n",
    "print(new_0)\n"
   ]
  },
  {
   "cell_type": "code",
   "execution_count": null,
   "id": "9a13961e-5fad-438d-bbe8-a862914c7374",
   "metadata": {},
   "outputs": [],
   "source": []
  }
 ],
 "metadata": {
  "kernelspec": {
   "display_name": "Python 3 (ipykernel)",
   "language": "python",
   "name": "python3"
  },
  "language_info": {
   "codemirror_mode": {
    "name": "ipython",
    "version": 3
   },
   "file_extension": ".py",
   "mimetype": "text/x-python",
   "name": "python",
   "nbconvert_exporter": "python",
   "pygments_lexer": "ipython3",
   "version": "3.12.7"
  }
 },
 "nbformat": 4,
 "nbformat_minor": 5
}
