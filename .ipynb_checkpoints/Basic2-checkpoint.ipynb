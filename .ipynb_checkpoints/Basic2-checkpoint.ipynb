{
 "cells": [
  {
   "cell_type": "markdown",
   "id": "435b3272-7d28-441e-81de-140f1e7673a3",
   "metadata": {},
   "source": [
    "Random"
   ]
  },
  {
   "cell_type": "markdown",
   "id": "85873874-139e-4662-b202-5c935533a1c3",
   "metadata": {},
   "source": [
    "Rand()"
   ]
  },
  {
   "cell_type": "code",
   "execution_count": 3,
   "id": "77a683be-8996-4b9f-a79d-aaab8ff113ea",
   "metadata": {},
   "outputs": [],
   "source": [
    "import numpy as np"
   ]
  },
  {
   "cell_type": "code",
   "execution_count": 11,
   "id": "26d5a67d-9c82-4ca1-80e7-044105d2a63a",
   "metadata": {},
   "outputs": [
    {
     "name": "stdout",
     "output_type": "stream",
     "text": [
      "[0.03763864 0.62262266 0.75491198 0.66905176]\n"
     ]
    }
   ],
   "source": [
    "var = np.random.rand(4)\n",
    "print(var)"
   ]
  },
  {
   "cell_type": "code",
   "execution_count": 12,
   "id": "650d68e8-479c-413c-9617-247ccf3e1aff",
   "metadata": {},
   "outputs": [
    {
     "name": "stdout",
     "output_type": "stream",
     "text": [
      "[[0.50005082 0.00777387 0.51466141 0.58635375]\n",
      " [0.90320147 0.92607535 0.33583995 0.04502502]\n",
      " [0.57193559 0.94868828 0.88409199 0.18566834]]\n"
     ]
    }
   ],
   "source": [
    "var4=np.random.rand(3,4)\n",
    "print(var4)"
   ]
  },
  {
   "cell_type": "markdown",
   "id": "ae5a7500-0158-4077-a801-63db10f73bc1",
   "metadata": {},
   "source": [
    "Randn()"
   ]
  },
  {
   "cell_type": "code",
   "execution_count": 10,
   "id": "e2ece100-822b-4531-9e26-0015bb9a737c",
   "metadata": {},
   "outputs": [
    {
     "name": "stdout",
     "output_type": "stream",
     "text": [
      "[ 1.20481163 -0.29388159 -1.69184533 -0.77651763 -0.86726317]\n"
     ]
    }
   ],
   "source": [
    "var2= np.random.randn(5)\n",
    "print(var2)"
   ]
  },
  {
   "cell_type": "code",
   "execution_count": 13,
   "id": "b50244d3-10d4-4278-be53-6a50376cfad6",
   "metadata": {},
   "outputs": [
    {
     "name": "stdout",
     "output_type": "stream",
     "text": [
      "[[-0.19187558 -0.97777392 -0.40799906 -1.56552479  0.22371962]\n",
      " [-0.77495791  2.6769634   0.06654488  1.41150589 -2.00740479]\n",
      " [ 0.03236733  0.77589452  0.17485528 -1.68955106  0.75111773]]\n"
     ]
    }
   ],
   "source": [
    "var5 = np.random.randn(3,5)\n",
    "print(var5)"
   ]
  },
  {
   "cell_type": "markdown",
   "id": "43487a21-7241-4fc3-ac4c-29a8af308b37",
   "metadata": {},
   "source": [
    "Ranf()"
   ]
  },
  {
   "cell_type": "code",
   "execution_count": 15,
   "id": "690808c4-f670-4606-9379-9f2783aeda79",
   "metadata": {},
   "outputs": [
    {
     "name": "stdout",
     "output_type": "stream",
     "text": [
      "[0.93394931 0.7680297  0.60870184]\n"
     ]
    }
   ],
   "source": [
    "var6= np.random.ranf(3)\n",
    "print(var6)"
   ]
  },
  {
   "cell_type": "markdown",
   "id": "bb11981f-f841-42ca-8ee0-08379770abb4",
   "metadata": {},
   "source": [
    "Randint()"
   ]
  },
  {
   "cell_type": "code",
   "execution_count": null,
   "id": "f1736570-37d2-4173-b546-7b10f53d56fb",
   "metadata": {},
   "outputs": [],
   "source": [
    "min=int(input(\"Enter min  value : \"))\n",
    "max=int(input(\"Enter max value : \"))\n",
    "total = int(input(\"Enter total value : \"))\n",
    "var7= np.random.randint(min,max,total value)"
   ]
  }
 ],
 "metadata": {
  "kernelspec": {
   "display_name": "Python 3 (ipykernel)",
   "language": "python",
   "name": "python3"
  },
  "language_info": {
   "codemirror_mode": {
    "name": "ipython",
    "version": 3
   },
   "file_extension": ".py",
   "mimetype": "text/x-python",
   "name": "python",
   "nbconvert_exporter": "python",
   "pygments_lexer": "ipython3",
   "version": "3.12.7"
  }
 },
 "nbformat": 4,
 "nbformat_minor": 5
}
