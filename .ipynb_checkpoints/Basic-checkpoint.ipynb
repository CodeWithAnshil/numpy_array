{
 "cells": [
  {
   "cell_type": "markdown",
   "id": "67e69ea2-4084-48bb-9667-48397ba41a6d",
   "metadata": {},
   "source": [
    "Zeros"
   ]
  },
  {
   "cell_type": "code",
   "execution_count": 2,
   "id": "36dd38a7-4abb-419e-960d-1368677904c5",
   "metadata": {},
   "outputs": [],
   "source": [
    "import numpy as np"
   ]
  },
  {
   "cell_type": "code",
   "execution_count": 5,
   "id": "8a6ed72a-3cc2-4025-8bd4-76ab5fcb21d7",
   "metadata": {},
   "outputs": [
    {
     "name": "stdout",
     "output_type": "stream",
     "text": [
      "[0. 0. 0. 0.]\n",
      "--------------\n",
      "[[0. 0. 0. 0.]\n",
      " [0. 0. 0. 0.]\n",
      " [0. 0. 0. 0.]]\n"
     ]
    }
   ],
   "source": [
    "zero=np.zeros(4)\n",
    "zero1=np.zeros((3,4))\n",
    "print(zero)\n",
    "print(\"--------------\")\n",
    "print(zero1)\n"
   ]
  },
  {
   "cell_type": "markdown",
   "id": "7a31f3b1-7632-4338-839e-3b9dd0660597",
   "metadata": {},
   "source": [
    "Ones"
   ]
  },
  {
   "cell_type": "code",
   "execution_count": 7,
   "id": "9e5709d2-6017-42e5-9a98-da8cdb536e29",
   "metadata": {},
   "outputs": [
    {
     "name": "stdout",
     "output_type": "stream",
     "text": [
      "[1. 1. 1.]\n"
     ]
    }
   ],
   "source": [
    "ar_one=np.ones(3)\n",
    "print(ar_one)"
   ]
  },
  {
   "cell_type": "markdown",
   "id": "fe2b20a8-8758-419e-9316-f89d7eef75c6",
   "metadata": {},
   "source": [
    "Empty"
   ]
  },
  {
   "cell_type": "code",
   "execution_count": 8,
   "id": "08bdeada-5707-4d1a-ae43-7cfbdf9a58af",
   "metadata": {},
   "outputs": [
    {
     "name": "stdout",
     "output_type": "stream",
     "text": [
      "[0. 0. 0. 0.]\n"
     ]
    }
   ],
   "source": [
    "ar_emp=np.empty(4)\n",
    "print(ar_emp)"
   ]
  },
  {
   "cell_type": "markdown",
   "id": "3ad733bb-9e60-47ae-9994-026f90ecbf56",
   "metadata": {},
   "source": [
    "Range"
   ]
  },
  {
   "cell_type": "code",
   "execution_count": 10,
   "id": "e4bb7327-e44f-418c-a55a-94ad078c16c0",
   "metadata": {},
   "outputs": [
    {
     "name": "stdout",
     "output_type": "stream",
     "text": [
      "[1 2 3 4 5 6 7 8 9]\n"
     ]
    }
   ],
   "source": [
    "ar_ran=np.arange(1,10)\n",
    "print(ar_ran)"
   ]
  },
  {
   "cell_type": "markdown",
   "id": "e81cc4c2-b000-43d3-b4ca-a4abf6102c6d",
   "metadata": {},
   "source": [
    "Diagonal"
   ]
  },
  {
   "cell_type": "code",
   "execution_count": 12,
   "id": "486ebc34-ae01-4eb6-96f9-73de7cbc0027",
   "metadata": {},
   "outputs": [
    {
     "name": "stdout",
     "output_type": "stream",
     "text": [
      "[[1. 0. 0. 0.]\n",
      " [0. 1. 0. 0.]\n",
      " [0. 0. 1. 0.]\n",
      " [0. 0. 0. 1.]]\n"
     ]
    }
   ],
   "source": [
    "ar_dia=np.eye(4)\n",
    "print(ar_dia)"
   ]
  },
  {
   "cell_type": "markdown",
   "id": "ce8f47e5-1cec-4c82-9622-c0aa40cdeb38",
   "metadata": {},
   "source": [
    "Linspace"
   ]
  },
  {
   "cell_type": "code",
   "execution_count": 18,
   "id": "a6a74db2-d36a-4d81-94cc-e305a797e757",
   "metadata": {},
   "outputs": [
    {
     "ename": "TypeError",
     "evalue": "linspace() got an unexpected keyword argument 'end'",
     "output_type": "error",
     "traceback": [
      "\u001b[1;31m---------------------------------------------------------------------------\u001b[0m",
      "\u001b[1;31mTypeError\u001b[0m                                 Traceback (most recent call last)",
      "Cell \u001b[1;32mIn[18], line 1\u001b[0m\n\u001b[1;32m----> 1\u001b[0m ar_linspace\u001b[38;5;241m=\u001b[39m\u001b[43mnp\u001b[49m\u001b[38;5;241;43m.\u001b[39;49m\u001b[43mlinspace\u001b[49m\u001b[43m(\u001b[49m\u001b[38;5;241;43m0\u001b[39;49m\u001b[43m,\u001b[49m\u001b[38;5;241;43m20\u001b[39;49m\u001b[43m,\u001b[49m\u001b[43mnum\u001b[49m\u001b[38;5;241;43m=\u001b[39;49m\u001b[38;5;241;43m5\u001b[39;49m\u001b[43m,\u001b[49m\u001b[43mend\u001b[49m\u001b[38;5;241;43m=\u001b[39;49m\u001b[38;5;124;43m'\u001b[39;49m\u001b[38;5;124;43m-\u001b[39;49m\u001b[38;5;124;43m'\u001b[39;49m\u001b[43m)\u001b[49m\n\u001b[0;32m      2\u001b[0m \u001b[38;5;28mprint\u001b[39m(ar_linspace)\n",
      "\u001b[1;31mTypeError\u001b[0m: linspace() got an unexpected keyword argument 'end'"
     ]
    }
   ],
   "source": [
    "ar_linspace=np.linspace(0,20,num=5)\n",
    "print(ar_linspace)"
   ]
  },
  {
   "cell_type": "code",
   "execution_count": null,
   "id": "7cd69d78-def8-4591-b21c-bd523d0468a8",
   "metadata": {},
   "outputs": [],
   "source": []
  }
 ],
 "metadata": {
  "kernelspec": {
   "display_name": "Python 3 (ipykernel)",
   "language": "python",
   "name": "python3"
  },
  "language_info": {
   "codemirror_mode": {
    "name": "ipython",
    "version": 3
   },
   "file_extension": ".py",
   "mimetype": "text/x-python",
   "name": "python",
   "nbconvert_exporter": "python",
   "pygments_lexer": "ipython3",
   "version": "3.12.7"
  }
 },
 "nbformat": 4,
 "nbformat_minor": 5
}
