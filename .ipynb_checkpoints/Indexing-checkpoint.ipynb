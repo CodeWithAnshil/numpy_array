{
 "cells": [
  {
   "cell_type": "markdown",
   "id": "63de0b8c-f718-420d-bedd-51f1bfe04067",
   "metadata": {},
   "source": [
    "# INDEXING"
   ]
  },
  {
   "cell_type": "code",
   "execution_count": 1,
   "id": "e4b7b7c3-c100-48a0-91e8-46f213428a1e",
   "metadata": {},
   "outputs": [],
   "source": [
    "import numpy as np"
   ]
  },
  {
   "cell_type": "code",
   "execution_count": 3,
   "id": "07e263b7-35de-41b9-858e-1e0cca0cb06d",
   "metadata": {},
   "outputs": [
    {
     "name": "stdout",
     "output_type": "stream",
     "text": [
      "3\n"
     ]
    }
   ],
   "source": [
    "x=np.array([1,2,3,4,5,6,7])\n",
    "print(x[2])\n"
   ]
  },
  {
   "cell_type": "code",
   "execution_count": 6,
   "id": "0f895854-1116-46c6-8bd2-b30ebb24192f",
   "metadata": {},
   "outputs": [
    {
     "name": "stdout",
     "output_type": "stream",
     "text": [
      "7\n",
      "3\n",
      "2\n"
     ]
    }
   ],
   "source": [
    "x=np.array([[1,2,3,4],[2,4,54,7],[6,4,43,3]])\n",
    "print(x[1,3])\n",
    "print(x.ndim)"
   ]
  },
  {
   "cell_type": "code",
   "execution_count": 8,
   "id": "47f03d2c-27a2-4a2d-a27b-c59d8d7b4efd",
   "metadata": {},
   "outputs": [
    {
     "name": "stdout",
     "output_type": "stream",
     "text": [
      "3\n",
      "4\n",
      "1\n",
      "5\n"
     ]
    }
   ],
   "source": [
    "x=np.array([[[1,2,3,4],[3,2,4,6],[4,9,5,7]],[[1,2,3,4],[83,5,2,4],[6,4,7,4]]])\n",
    "print(x.ndim)\n",
    "print(x[1,2,3])\n",
    "print(x[0,0,0])\n",
    "print(x[1,1,1])"
   ]
  },
  {
   "cell_type": "code",
   "execution_count": null,
   "id": "28dba244-8bb0-46f0-8ed7-1c89d927775b",
   "metadata": {},
   "outputs": [],
   "source": []
  }
 ],
 "metadata": {
  "kernelspec": {
   "display_name": "Python 3 (ipykernel)",
   "language": "python",
   "name": "python3"
  },
  "language_info": {
   "codemirror_mode": {
    "name": "ipython",
    "version": 3
   },
   "file_extension": ".py",
   "mimetype": "text/x-python",
   "name": "python",
   "nbconvert_exporter": "python",
   "pygments_lexer": "ipython3",
   "version": "3.12.7"
  }
 },
 "nbformat": 4,
 "nbformat_minor": 5
}
