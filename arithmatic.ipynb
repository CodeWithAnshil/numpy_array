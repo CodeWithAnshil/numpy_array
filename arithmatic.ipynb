{
 "cells": [
  {
   "cell_type": "markdown",
   "id": "036102eb-764b-4faa-b8fc-91e2e56eacfd",
   "metadata": {},
   "source": [
    "# Arithmatics"
   ]
  },
  {
   "cell_type": "code",
   "execution_count": 2,
   "id": "58846753-64a8-4ee7-8972-95a8ed72593c",
   "metadata": {},
   "outputs": [],
   "source": [
    "import numpy as np\n"
   ]
  },
  {
   "cell_type": "code",
   "execution_count": 3,
   "id": "c67087b3-0f0e-4d8f-adf9-5ba5fb6ea9c1",
   "metadata": {},
   "outputs": [
    {
     "name": "stdout",
     "output_type": "stream",
     "text": [
      "[4 5 6 7]\n"
     ]
    }
   ],
   "source": [
    "var=np.array([1,2,3,4])\n",
    "new_1=var + 3\n",
    "print(new_1)"
   ]
  },
  {
   "cell_type": "code",
   "execution_count": 4,
   "id": "6d844719-c379-45d3-a467-04e9225f7ff1",
   "metadata": {},
   "outputs": [
    {
     "name": "stdout",
     "output_type": "stream",
     "text": [
      "[ 4  8  6  6 10]\n"
     ]
    }
   ],
   "source": [
    "var1=np.array([1,2,3,4,5])\n",
    "var2=np.array([3,6,3,2,5])\n",
    "new_2= var1+ var2\n",
    "print(new_2)"
   ]
  },
  {
   "cell_type": "code",
   "execution_count": 6,
   "id": "7753c46c-816d-4d16-8293-17e9accc0e37",
   "metadata": {},
   "outputs": [
    {
     "name": "stdout",
     "output_type": "stream",
     "text": [
      "[[ 4  5  6  7]\n",
      " [ 8  9 10  7]]\n"
     ]
    }
   ],
   "source": [
    "var3=np.array([[1,2,3,4],[5,6,7,4]])\n",
    "new_3=var3 + 3\n",
    "print(new_3)"
   ]
  },
  {
   "cell_type": "code",
   "execution_count": 7,
   "id": "49c1fe8a-5aeb-488b-9662-2504442a0480",
   "metadata": {},
   "outputs": [
    {
     "name": "stdout",
     "output_type": "stream",
     "text": [
      "[[ 4  8  6  9]\n",
      " [14 10 10 10]]\n"
     ]
    }
   ],
   "source": [
    "var4=np.array([[1,2,3,4],[5,6,7,4]])\n",
    "var5=np.array([[3,6,3,5],[9,4,3,6]])\n",
    "new_4=var4 + var5\n",
    "print(new_4)"
   ]
  },
  {
   "cell_type": "code",
   "execution_count": 8,
   "id": "0c3652de-d7a2-473b-b88b-4773eb68b415",
   "metadata": {},
   "outputs": [
    {
     "name": "stdout",
     "output_type": "stream",
     "text": [
      "[[ 4  8  6  9]\n",
      " [14 10 10 10]]\n"
     ]
    }
   ],
   "source": [
    "new_add1=np.add(var4,var5)\n",
    "print(new_add1)"
   ]
  },
  {
   "cell_type": "markdown",
   "id": "9c90916e-4cbe-400c-8288-f30c9784e6f4",
   "metadata": {},
   "source": [
    "# Multiply"
   ]
  },
  {
   "cell_type": "code",
   "execution_count": 13,
   "id": "86c90f4e-be3c-4d51-8d30-08d87f3dd036",
   "metadata": {},
   "outputs": [
    {
     "name": "stdout",
     "output_type": "stream",
     "text": [
      "[[ 3 12  9 20]\n",
      " [45 24 21 24]]\n"
     ]
    }
   ],
   "source": [
    "new_m1=np.multiply(var4,var5)\n",
    "print(new_m1)"
   ]
  },
  {
   "cell_type": "markdown",
   "id": "e8f34dd6-7147-4810-9adf-5f1c3ef9567e",
   "metadata": {},
   "source": [
    "# Subtract"
   ]
  },
  {
   "cell_type": "code",
   "execution_count": 12,
   "id": "369d8c05-2d1c-4a88-b20f-e49fd30aa11a",
   "metadata": {},
   "outputs": [
    {
     "name": "stdout",
     "output_type": "stream",
     "text": [
      "[[-2 -4  0 -1]\n",
      " [-4  2  4 -2]]\n"
     ]
    }
   ],
   "source": [
    "new_sub=np.subtract(var4,var5)\n",
    "print(new_sub)"
   ]
  },
  {
   "cell_type": "markdown",
   "id": "3dc0e45b-4c87-4a16-bc60-fc38386b5fe5",
   "metadata": {},
   "source": [
    "# Power"
   ]
  },
  {
   "cell_type": "code",
   "execution_count": 14,
   "id": "caaa9463-c6a5-44f9-b3db-3e60fc5a0ba6",
   "metadata": {},
   "outputs": [
    {
     "name": "stdout",
     "output_type": "stream",
     "text": [
      "[[  1   8  27  64]\n",
      " [125 216 343  64]]\n"
     ]
    }
   ],
   "source": [
    "new_pow= np.power(var4,3)\n",
    "print(new_pow)"
   ]
  },
  {
   "cell_type": "markdown",
   "id": "587d59ad-52ca-436f-8404-7ff44b3720d8",
   "metadata": {},
   "source": []
  },
  {
   "cell_type": "code",
   "execution_count": null,
   "id": "c4b6659f-88af-41aa-80fe-65dc7bf8d1b1",
   "metadata": {},
   "outputs": [],
   "source": []
  }
 ],
 "metadata": {
  "kernelspec": {
   "display_name": "Python 3 (ipykernel)",
   "language": "python",
   "name": "python3"
  },
  "language_info": {
   "codemirror_mode": {
    "name": "ipython",
    "version": 3
   },
   "file_extension": ".py",
   "mimetype": "text/x-python",
   "name": "python",
   "nbconvert_exporter": "python",
   "pygments_lexer": "ipython3",
   "version": "3.12.7"
  }
 },
 "nbformat": 4,
 "nbformat_minor": 5
}
