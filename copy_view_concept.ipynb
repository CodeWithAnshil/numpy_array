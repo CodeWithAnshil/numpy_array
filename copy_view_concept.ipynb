{
 "cells": [
  {
   "cell_type": "markdown",
   "id": "6037b798-b7a2-44d8-a6a6-05ef59335952",
   "metadata": {},
   "source": [
    "# Copy & View difference"
   ]
  },
  {
   "cell_type": "code",
   "execution_count": 3,
   "id": "1ffef16e-d2ab-4aa4-bb7d-ec2dfc68bae2",
   "metadata": {},
   "outputs": [],
   "source": [
    "import numpy as np\n"
   ]
  },
  {
   "cell_type": "markdown",
   "id": "04bc8ea0-7db4-46cd-b7a5-bda4a32f1efe",
   "metadata": {},
   "source": [
    "# .Copy()-> Ek bar copy karne ke bad jb original file me change kiya jata hai to copy file me koi change nhi hota hai"
   ]
  },
  {
   "cell_type": "code",
   "execution_count": 6,
   "id": "cf65aca0-a8d3-4491-b497-7d5defcdaabc",
   "metadata": {},
   "outputs": [
    {
     "name": "stdout",
     "output_type": "stream",
     "text": [
      "\n",
      "copy :  [1 2 3 4 6]\n",
      "original :  [ 1 50  3  4  6]\n"
     ]
    }
   ],
   "source": [
    "x=np.array([1,2,3,4,6])\n",
    "print()\n",
    "new_copy=x.copy()\n",
    "x[1]=50\n",
    "print(\"copy : \",new_copy)\n",
    "print(\"original : \",x)"
   ]
  },
  {
   "cell_type": "markdown",
   "id": "f3b205bf-8803-49f3-ba8b-775736a0ca48",
   "metadata": {},
   "source": [
    "# .view()-> Is mathod ka use kar ke copy file banate hai to jb original file me change kiya jata hai to copy file me bhi change hota hai"
   ]
  },
  {
   "cell_type": "code",
   "execution_count": 7,
   "id": "3b745210-bb7e-4953-9fc8-a8fb7d584035",
   "metadata": {},
   "outputs": [
    {
     "name": "stdout",
     "output_type": "stream",
     "text": [
      "\n",
      "copy :  [ 1 50  3  4  6]\n",
      "original :  [ 1 50  3  4  6]\n"
     ]
    }
   ],
   "source": [
    "x1=np.array([1,2,3,4,6])\n",
    "print()\n",
    "new_copy=x.view()\n",
    "x1[1]=50\n",
    "print(\"copy : \",new_copy)\n",
    "print(\"original : \",x1)"
   ]
  },
  {
   "cell_type": "code",
   "execution_count": null,
   "id": "13a8a8cc-e9b0-4ddb-969d-25a794e3cda0",
   "metadata": {},
   "outputs": [],
   "source": []
  }
 ],
 "metadata": {
  "kernelspec": {
   "display_name": "Python 3 (ipykernel)",
   "language": "python",
   "name": "python3"
  },
  "language_info": {
   "codemirror_mode": {
    "name": "ipython",
    "version": 3
   },
   "file_extension": ".py",
   "mimetype": "text/x-python",
   "name": "python",
   "nbconvert_exporter": "python",
   "pygments_lexer": "ipython3",
   "version": "3.12.7"
  }
 },
 "nbformat": 4,
 "nbformat_minor": 5
}
