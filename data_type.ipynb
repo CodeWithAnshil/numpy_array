{
 "cells": [
  {
   "cell_type": "markdown",
   "id": "c6869543-7ecc-4e70-be5d-555fb2c49f10",
   "metadata": {},
   "source": [
    "Data Type"
   ]
  },
  {
   "cell_type": "code",
   "execution_count": 1,
   "id": "0012a694-47d5-4067-b65c-c78daf669187",
   "metadata": {},
   "outputs": [],
   "source": [
    "import numpy as np\n"
   ]
  },
  {
   "cell_type": "code",
   "execution_count": 3,
   "id": "cbfd24db-4482-4a11-b9aa-df9c774b85fe",
   "metadata": {},
   "outputs": [
    {
     "name": "stdout",
     "output_type": "stream",
     "text": [
      "Data Type :  int32\n"
     ]
    }
   ],
   "source": [
    "x= np.array([1,2,4,53])\n",
    "print(\"Data Type : \",x.dtype)"
   ]
  },
  {
   "cell_type": "code",
   "execution_count": 6,
   "id": "aef3f35a-f82f-4dc2-a822-ee4a925844bd",
   "metadata": {},
   "outputs": [
    {
     "name": "stdout",
     "output_type": "stream",
     "text": [
      "Data Type :  float32\n",
      "[ 1.  2.  4. 53.]\n"
     ]
    }
   ],
   "source": [
    "x1= np.array([1,2,4,53],dtype=np.float32)\n",
    "print(\"Data Type : \",x1.dtype)\n",
    "print(x1)"
   ]
  },
  {
   "cell_type": "code",
   "execution_count": 9,
   "id": "e3456422-edf9-48d2-adcf-3279b5b96ade",
   "metadata": {},
   "outputs": [
    {
     "name": "stdout",
     "output_type": "stream",
     "text": [
      "Data Type :  |S2\n",
      "[b'1' b'2' b'4' b'53']\n"
     ]
    }
   ],
   "source": [
    "x2= np.array([1,2,4,53],dtype=\"S\")\n",
    "print(\"Data Type : \",x2.dtype)\n",
    "print(x2)"
   ]
  },
  {
   "cell_type": "code",
   "execution_count": 18,
   "id": "79dcfebf-d7a8-43ef-b903-878cd42ed59f",
   "metadata": {},
   "outputs": [
    {
     "name": "stdout",
     "output_type": "stream",
     "text": [
      "Data Type :  float32\n",
      "[ 1.  2.  4. 53.]\n"
     ]
    }
   ],
   "source": [
    "x3= np.array([1,2,4,53])\n",
    "new = np.float32(x3)\n",
    "print(\"Data Type : \",new.dtype)\n",
    "print(new)"
   ]
  },
  {
   "cell_type": "code",
   "execution_count": 19,
   "id": "d9f8d695-2c8e-4870-9d8e-25e302711aab",
   "metadata": {},
   "outputs": [
    {
     "name": "stdout",
     "output_type": "stream",
     "text": [
      "Data Type :  float32\n",
      "Data Type :  int32\n",
      "[ 1.  2.  4. 53.]\n",
      "[ 1  2  4 53]\n"
     ]
    }
   ],
   "source": [
    "x4= np.array([1,2,4,53])\n",
    "new = np.float32(x4)\n",
    "new_1=np.int_(new)\n",
    "print(\"Data Type : \",new.dtype)\n",
    "print(\"Data Type : \",new_1.dtype)\n",
    "print(new)\n",
    "print(new_1)"
   ]
  },
  {
   "cell_type": "code",
   "execution_count": null,
   "id": "5f8e34c0-b792-44ed-8ef4-8a7d633c0084",
   "metadata": {},
   "outputs": [],
   "source": []
  }
 ],
 "metadata": {
  "kernelspec": {
   "display_name": "Python 3 (ipykernel)",
   "language": "python",
   "name": "python3"
  },
  "language_info": {
   "codemirror_mode": {
    "name": "ipython",
    "version": 3
   },
   "file_extension": ".py",
   "mimetype": "text/x-python",
   "name": "python",
   "nbconvert_exporter": "python",
   "pygments_lexer": "ipython3",
   "version": "3.12.7"
  }
 },
 "nbformat": 4,
 "nbformat_minor": 5
}
